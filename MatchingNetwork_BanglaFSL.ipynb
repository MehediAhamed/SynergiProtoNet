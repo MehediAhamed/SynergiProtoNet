{
 "cells": [
  {
   "cell_type": "code",
   "execution_count": null,
   "metadata": {
    "executionInfo": {
     "elapsed": 9,
     "status": "ok",
     "timestamp": 1724422764107,
     "user": {
      "displayName": "Mehedi Ahamed",
      "userId": "13319189529633115775"
     },
     "user_tz": -360
    },
    "id": "NnxSUVIK73xa"
   },
   "outputs": [],
   "source": [
    "try:\n",
    "    import google.colab\n",
    "    colab = True\n",
    "except:\n",
    "    colab = False"
   ]
  },
  {
   "cell_type": "code",
   "execution_count": null,
   "metadata": {
    "colab": {
     "base_uri": "https://localhost:8080/"
    },
    "executionInfo": {
     "elapsed": 89119,
     "status": "ok",
     "timestamp": 1724422853219,
     "user": {
      "displayName": "Mehedi Ahamed",
      "userId": "13319189529633115775"
     },
     "user_tz": -360
    },
    "id": "c5vrGDXf7_Ly",
    "outputId": "d98fbb74-473a-4a2a-82d5-cfa9820ac971"
   },
   "outputs": [],
   "source": [
    "if colab is True:\n",
    "\n",
    "    !git clone https://github.com/sicara/easy-few-shot-learning\n",
    "    %cd easy-few-shot-learning\n",
    "    !pip install .\n",
    "else:\n",
    "\n",
    "    %cd .."
   ]
  },
  {
   "cell_type": "code",
   "execution_count": null,
   "metadata": {
    "colab": {
     "base_uri": "https://localhost:8080/"
    },
    "executionInfo": {
     "elapsed": 61192,
     "status": "ok",
     "timestamp": 1724422946450,
     "user": {
      "displayName": "Mehedi Ahamed",
      "userId": "13319189529633115775"
     },
     "user_tz": -360
    },
    "id": "52Pw8AbY3aHM",
    "outputId": "30c81b00-5873-4b51-b6f8-d1bb10422516"
   },
   "outputs": [],
   "source": [
    "import gdown\n",
    "import zipfile\n",
    "import os\n",
    "\n",
    "\n",
    "file_id = \" \"\n",
    "destination = \" \"\n",
    "\n",
    "download_url = f\"https://drive.google.com/uc?id={file_id}\"\n",
    "\n",
    "gdown.download(download_url, destination, quiet=False)\n",
    "\n",
    "\n",
    "unzip_dir = \" \"\n",
    "os.makedirs(unzip_dir, exist_ok=True)\n",
    "with zipfile.ZipFile(destination, 'r') as zip_ref:\n",
    "    zip_ref.extractall(unzip_dir)"
   ]
  },
  {
   "cell_type": "code",
   "execution_count": null,
   "metadata": {
    "executionInfo": {
     "elapsed": 5053,
     "status": "ok",
     "timestamp": 1724422951499,
     "user": {
      "displayName": "Mehedi Ahamed",
      "userId": "13319189529633115775"
     },
     "user_tz": -360
    },
    "id": "hhiI49Vl8DkZ"
   },
   "outputs": [],
   "source": [
    "from pathlib import Path\n",
    "import random\n",
    "from statistics import mean\n",
    "\n",
    "import numpy as np\n",
    "import torch\n",
    "from torch import nn\n",
    "from tqdm import tqdm\n",
    "import torchvision\n",
    "import torch.utils.data"
   ]
  },
  {
   "cell_type": "code",
   "execution_count": null,
   "metadata": {
    "executionInfo": {
     "elapsed": 15,
     "status": "ok",
     "timestamp": 1724422951500,
     "user": {
      "displayName": "Mehedi Ahamed",
      "userId": "13319189529633115775"
     },
     "user_tz": -360
    },
    "id": "JE-g7hat8EWR"
   },
   "outputs": [],
   "source": [
    "random_seed = 30\n",
    "np.random.seed(random_seed)\n",
    "torch.manual_seed(random_seed)\n",
    "random.seed(random_seed)\n",
    "torch.backends.cudnn.deterministic = True\n",
    "torch.backends.cudnn.benchmark = False"
   ]
  },
  {
   "cell_type": "markdown",
   "metadata": {
    "id": "0z4qdEF-9Nhq"
   },
   "source": [
    "# Episodic Training"
   ]
  },
  {
   "cell_type": "code",
   "execution_count": null,
   "metadata": {
    "executionInfo": {
     "elapsed": 13,
     "status": "ok",
     "timestamp": 1724422951500,
     "user": {
      "displayName": "Mehedi Ahamed",
      "userId": "13319189529633115775"
     },
     "user_tz": -360
    },
    "id": "ZoaV-tbj8HJw"
   },
   "outputs": [],
   "source": [
    "n_way = 5\n",
    "n_shot = 10\n",
    "n_query = 10\n",
    "\n",
    "DEVICE = \"cuda\" if torch.cuda.is_available() else \"cpu\"\n",
    "n_workers = 0"
   ]
  },
  {
   "cell_type": "code",
   "execution_count": null,
   "metadata": {
    "executionInfo": {
     "elapsed": 13,
     "status": "ok",
     "timestamp": 1724422951500,
     "user": {
      "displayName": "Mehedi Ahamed",
      "userId": "13319189529633115775"
     },
     "user_tz": -360
    },
    "id": "bQ2QbqI7Pg11"
   },
   "outputs": [],
   "source": [
    "from torch.utils.data import Dataset\n",
    "from torchvision import transforms\n",
    "from PIL import Image\n",
    "import os\n",
    "\n",
    "class BengaliCharactersDataset(Dataset):\n",
    "    def __init__(self, root_dir, transform=None):\n",
    "        self.root_dir = root_dir\n",
    "        self.transform = transform\n",
    "        self.classes = [d for d in os.listdir(root_dir) if os.path.isdir(os.path.join(root_dir, d))]\n",
    "        self.class_to_idx = {cls_name: i for i, cls_name in enumerate(self.classes)}\n",
    "        self.samples = []\n",
    "\n",
    "        for class_name in self.classes:\n",
    "            class_dir = os.path.join(root_dir, class_name)\n",
    "            for img_file in os.listdir(class_dir):\n",
    "                if img_file.endswith('.bmp'):\n",
    "                    self.samples.append((os.path.join(class_dir, img_file), class_name))\n",
    "\n",
    "        print(\"First few samples:\")\n",
    "        print(self.samples[:5])  \n",
    "\n",
    "    def __len__(self):\n",
    "        return len(self.samples)\n",
    "\n",
    "    def __getitem__(self, idx):\n",
    "        img_path, label_str = self.samples[idx]\n",
    "        image = Image.open(img_path).convert('RGB')\n",
    "\n",
    "        label = self.class_to_idx[label_str]\n",
    "\n",
    "        if self.transform:\n",
    "            image = self.transform(image)\n",
    "\n",
    "        return image, label\n",
    "\n",
    "    def get_labels(self):\n",
    "        return [label for _, label in self.samples]\n"
   ]
  },
  {
   "cell_type": "code",
   "execution_count": null,
   "metadata": {
    "colab": {
     "base_uri": "https://localhost:8080/"
    },
    "executionInfo": {
     "elapsed": 13,
     "status": "ok",
     "timestamp": 1724422951501,
     "user": {
      "displayName": "Mehedi Ahamed",
      "userId": "13319189529633115775"
     },
     "user_tz": -360
    },
    "id": "3lTdyVps2RLk",
    "outputId": "d9aa1a6a-df38-47ac-b843-66a765169323"
   },
   "outputs": [],
   "source": [
    "image_size = 84  \n",
    "\n",
    "train_transforms = transforms.Compose([\n",
    "    transforms.Resize((image_size, image_size)),\n",
    "    transforms.ToTensor(),\n",
    "])\n",
    "\n",
    "test_transforms = transforms.Compose([\n",
    "    transforms.Resize((image_size, image_size)),\n",
    "    transforms.ToTensor(),\n",
    "])\n",
    "\n",
    "train_set = BengaliCharactersDataset(root_dir='/content/data/BasicFinalDatabase_FSL/Train', transform=test_transforms)\n",
    "test_set = BengaliCharactersDataset(root_dir='/content/data/BasicFinalDatabase_FSL/Test', transform=test_transforms)\n"
   ]
  },
  {
   "cell_type": "code",
   "execution_count": null,
   "metadata": {
    "colab": {
     "base_uri": "https://localhost:8080/"
    },
    "executionInfo": {
     "elapsed": 5450,
     "status": "ok",
     "timestamp": 1724422956939,
     "user": {
      "displayName": "Mehedi Ahamed",
      "userId": "13319189529633115775"
     },
     "user_tz": -360
    },
    "id": "nmWydVXk8JYI",
    "outputId": "18ba8a47-aa0a-44af-db76-a05d8da7204c"
   },
   "outputs": [],
   "source": [
    "from easyfsl.samplers import TaskSampler\n",
    "from torch.utils.data import DataLoader\n",
    "\n",
    "\n",
    "n_tasks_per_epoch = 500\n",
    "n_validation_tasks = 100\n",
    "\n",
    "val_set = test_set\n",
    "\n",
    "train_set.get_labels = lambda: [\n",
    "    instance[1] for instance in train_set\n",
    "]\n",
    "\n",
    "val_set.get_labels = lambda: [\n",
    "    instance[1] for instance in val_set\n",
    "]\n",
    "\n",
    "train_sampler = TaskSampler(\n",
    "    train_set, n_way=n_way, n_shot=n_shot, n_query=n_query, n_tasks=n_tasks_per_epoch\n",
    ")\n",
    "val_sampler = TaskSampler(\n",
    "    val_set, n_way=n_way, n_shot=n_shot, n_query=n_query, n_tasks=n_validation_tasks\n",
    ")\n",
    "\n",
    "\n",
    "train_loader = DataLoader(\n",
    "    train_set,\n",
    "    batch_sampler=train_sampler,\n",
    "    num_workers=n_workers,\n",
    "    pin_memory=True,\n",
    "    collate_fn=train_sampler.episodic_collate_fn,\n",
    ")\n",
    "val_loader = DataLoader(\n",
    "    val_set,\n",
    "    batch_sampler=val_sampler,\n",
    "    num_workers=n_workers,\n",
    "    pin_memory=True,\n",
    "    collate_fn=val_sampler.episodic_collate_fn,\n",
    ")\n",
    "\n",
    "print(len(train_set), len(val_set))"
   ]
  },
  {
   "cell_type": "code",
   "execution_count": null,
   "metadata": {
    "colab": {
     "base_uri": "https://localhost:8080/"
    },
    "executionInfo": {
     "elapsed": 1392,
     "status": "ok",
     "timestamp": 1724422958317,
     "user": {
      "displayName": "Mehedi Ahamed",
      "userId": "13319189529633115775"
     },
     "user_tz": -360
    },
    "id": "wQ3g-54A8N-s",
    "outputId": "28de32b2-5b92-4ff4-df34-987fd4b64e38"
   },
   "outputs": [],
   "source": [
    "import torchvision.models as models\n",
    "from easyfsl.methods import MatchingNetworks, FewShotClassifier\n",
    "import torch.nn as nn\n",
    "import torch\n",
    "\n",
    "pretrained_resnet18 = models.resnet18(pretrained=True)\n",
    "\n",
    "num_classes = 50 \n",
    "pretrained_resnet18.fc = nn.Linear(pretrained_resnet18.fc.in_features, num_classes)\n",
    "\n",
    "DEVICE = torch.device(\"cuda\" if torch.cuda.is_available() else \"cpu\")\n",
    "pretrained_resnet18 = pretrained_resnet18.to(DEVICE)\n",
    "\n",
    "\n",
    "few_shot_classifier = MatchingNetworks(pretrained_resnet18, feature_dimension = 512).to(DEVICE)\n"
   ]
  },
  {
   "cell_type": "code",
   "execution_count": null,
   "metadata": {
    "executionInfo": {
     "elapsed": 5100,
     "status": "ok",
     "timestamp": 1724422963414,
     "user": {
      "displayName": "Mehedi Ahamed",
      "userId": "13319189529633115775"
     },
     "user_tz": -360
    },
    "id": "cOdKOzj98RkB"
   },
   "outputs": [],
   "source": [
    "from torch.optim import SGD, Optimizer\n",
    "from torch.optim.lr_scheduler import MultiStepLR\n",
    "from torch.utils.tensorboard import SummaryWriter\n",
    "\n",
    "\n",
    "LOSS_FUNCTION = nn.CrossEntropyLoss()\n",
    "\n",
    "n_epochs = 30\n",
    "scheduler_milestones = [120, 160]\n",
    "scheduler_gamma = 0.1\n",
    "learning_rate = 1e-2\n",
    "tb_logs_dir = Path(\".\")\n",
    "\n",
    "train_optimizer = SGD(\n",
    "    few_shot_classifier.parameters(), lr=learning_rate, momentum=0.9, weight_decay=5e-4\n",
    ")\n",
    "train_scheduler = MultiStepLR(\n",
    "    train_optimizer,\n",
    "    milestones=scheduler_milestones,\n",
    "    gamma=scheduler_gamma,\n",
    ")\n",
    "\n",
    "tb_writer = SummaryWriter(log_dir=str(tb_logs_dir))"
   ]
  },
  {
   "cell_type": "code",
   "execution_count": null,
   "metadata": {
    "executionInfo": {
     "elapsed": 16,
     "status": "ok",
     "timestamp": 1724422963414,
     "user": {
      "displayName": "Mehedi Ahamed",
      "userId": "13319189529633115775"
     },
     "user_tz": -360
    },
    "id": "ojLSBvch8U-a"
   },
   "outputs": [],
   "source": [
    "def training_epoch(\n",
    "    model: FewShotClassifier, data_loader: DataLoader, optimizer: Optimizer\n",
    "):\n",
    "    all_loss = []\n",
    "    model.train()\n",
    "    with tqdm(\n",
    "        enumerate(data_loader), total=len(data_loader), desc=\"Training\"\n",
    "    ) as tqdm_train:\n",
    "        for episode_index, (\n",
    "            support_images,\n",
    "            support_labels,\n",
    "            query_images,\n",
    "            query_labels,\n",
    "            _,\n",
    "        ) in tqdm_train:\n",
    "            optimizer.zero_grad()\n",
    "            model.process_support_set(\n",
    "                support_images.to(DEVICE), support_labels.to(DEVICE)\n",
    "            )\n",
    "            classification_scores = model(query_images.to(DEVICE))\n",
    "\n",
    "            loss = LOSS_FUNCTION(classification_scores, query_labels.to(DEVICE))\n",
    "\n",
    "            loss.backward()\n",
    "\n",
    "            optimizer.step()\n",
    "\n",
    "            all_loss.append(loss.item())\n",
    "\n",
    "            tqdm_train.set_postfix(loss=mean(all_loss))\n",
    "\n",
    "    return mean(all_loss)"
   ]
  },
  {
   "cell_type": "code",
   "execution_count": null,
   "metadata": {
    "colab": {
     "base_uri": "https://localhost:8080/"
    },
    "executionInfo": {
     "elapsed": 2816725,
     "status": "ok",
     "timestamp": 1724425780124,
     "user": {
      "displayName": "Mehedi Ahamed",
      "userId": "13319189529633115775"
     },
     "user_tz": -360
    },
    "id": "IG6pA52a8ZAZ",
    "outputId": "cf03726f-cdad-4657-81be-e70b456feaec"
   },
   "outputs": [],
   "source": [
    "from easyfsl.utils import evaluate\n",
    "\n",
    "\n",
    "best_state = few_shot_classifier.state_dict()\n",
    "best_validation_accuracy = 0.0\n",
    "for epoch in range(n_epochs):\n",
    "    print(f\"Epoch {epoch}\")\n",
    "    average_loss = training_epoch(few_shot_classifier, train_loader, train_optimizer)\n",
    "    validation_accuracy = evaluate(\n",
    "        few_shot_classifier, val_loader, device=DEVICE, tqdm_prefix=\"Validation\"\n",
    "    )\n",
    "\n",
    "    if validation_accuracy > best_validation_accuracy:\n",
    "        best_validation_accuracy = validation_accuracy\n",
    "        best_state = few_shot_classifier.state_dict()\n",
    "        print(\"Ding ding ding! We found a new best model!\")\n",
    "\n",
    "    tb_writer.add_scalar(\"Train/loss\", average_loss, epoch)\n",
    "    tb_writer.add_scalar(\"Val/acc\", validation_accuracy, epoch)\n",
    "\n",
    "    train_scheduler.step()\n",
    "\n",
    "    if epoch % 1 == 0 : torch.save(best_state, '/content/real_5shot_5way_Matching_BanglaLekha_Isolated.pth')"
   ]
  },
  {
   "cell_type": "code",
   "execution_count": null,
   "metadata": {
    "colab": {
     "base_uri": "https://localhost:8080/"
    },
    "executionInfo": {
     "elapsed": 12,
     "status": "ok",
     "timestamp": 1724425780124,
     "user": {
      "displayName": "Mehedi Ahamed",
      "userId": "13319189529633115775"
     },
     "user_tz": -360
    },
    "id": "jD---wAY8d1J",
    "outputId": "3e9b2e99-63f3-4ea4-eb25-fcfc83d245b0"
   },
   "outputs": [],
   "source": [
    "PATH = '/content/real_5shot_5way_Matching_BanglaLekha_Isolated.pth'\n",
    "few_shot_classifier.load_state_dict(torch.load(PATH))"
   ]
  },
  {
   "cell_type": "markdown",
   "metadata": {
    "id": "6-YALOOBJstS"
   },
   "source": [
    "**Evaluation**"
   ]
  },
  {
   "cell_type": "code",
   "execution_count": null,
   "metadata": {
    "executionInfo": {
     "elapsed": 1355,
     "status": "ok",
     "timestamp": 1724425781473,
     "user": {
      "displayName": "Mehedi Ahamed",
      "userId": "13319189529633115775"
     },
     "user_tz": -360
    },
    "id": "eEakeF2Y8h-p"
   },
   "outputs": [],
   "source": [
    "n_test_tasks = 100\n",
    "\n",
    "test_set.get_labels = lambda: [\n",
    "    instance[1] for instance in test_set\n",
    "]\n",
    "\n",
    "test_sampler = TaskSampler(\n",
    "    test_set, n_way=n_way, n_shot=n_shot, n_query=n_query, n_tasks=n_test_tasks\n",
    ")\n",
    "test_loader = DataLoader(\n",
    "    test_set,\n",
    "    batch_sampler=test_sampler,\n",
    "    num_workers=n_workers,\n",
    "    pin_memory=True,\n",
    "    collate_fn=test_sampler.episodic_collate_fn,\n",
    ")"
   ]
  },
  {
   "cell_type": "code",
   "execution_count": null,
   "metadata": {
    "colab": {
     "base_uri": "https://localhost:8080/"
    },
    "executionInfo": {
     "elapsed": 8719,
     "status": "ok",
     "timestamp": 1724425790177,
     "user": {
      "displayName": "Mehedi Ahamed",
      "userId": "13319189529633115775"
     },
     "user_tz": -360
    },
    "id": "zGp8gjVZ8k7p",
    "outputId": "559af1c9-ca64-406c-b305-fa384497ec9d"
   },
   "outputs": [],
   "source": [
    "from easyfsl.utils import evaluate\n",
    "accuracy = evaluate(few_shot_classifier, test_loader, device=DEVICE)\n",
    "print(f\"Average accuracy : {(100 * accuracy):.2f} %\")"
   ]
  },
  {
   "cell_type": "code",
   "execution_count": null,
   "metadata": {
    "executionInfo": {
     "elapsed": 1370,
     "status": "ok",
     "timestamp": 1724425791542,
     "user": {
      "displayName": "Mehedi Ahamed",
      "userId": "13319189529633115775"
     },
     "user_tz": -360
    },
    "id": "Y6EGdusfEs3A"
   },
   "outputs": [],
   "source": [
    "from sklearn.metrics import precision_recall_fscore_support\n",
    "import torch\n",
    "\n",
    "\n",
    "def evaluate_with_metrics(model, loader, device):\n",
    "    model.eval()\n",
    "    all_labels = []\n",
    "    all_preds = []\n",
    "\n",
    "    with torch.no_grad():\n",
    "        for _, (support_images, support_labels, query_images, query_labels, _) in enumerate(loader):\n",
    "            model.process_support_set(support_images.to(device), support_labels.to(device))\n",
    "            outputs = model(query_images.to(device))\n",
    "            _, preds = torch.max(outputs, 1)\n",
    "            all_labels.extend(query_labels.cpu().numpy())\n",
    "            all_preds.extend(preds.cpu().numpy())\n",
    "\n",
    "    precision, recall, f1_score, _ = precision_recall_fscore_support(all_labels, all_preds, average='macro')\n",
    "    return precision, recall, f1_score\n"
   ]
  },
  {
   "cell_type": "code",
   "execution_count": null,
   "metadata": {
    "colab": {
     "base_uri": "https://localhost:8080/"
    },
    "executionInfo": {
     "elapsed": 8044,
     "status": "ok",
     "timestamp": 1724425799581,
     "user": {
      "displayName": "Mehedi Ahamed",
      "userId": "13319189529633115775"
     },
     "user_tz": -360
    },
    "id": "uE5xJeMYEuTq",
    "outputId": "4d51d7b8-3f74-4b51-b5fb-8336f1ab65e6"
   },
   "outputs": [],
   "source": [
    "precision, recall, f1_score = evaluate_with_metrics(few_shot_classifier, test_loader, DEVICE)\n",
    "print(f\"Precision: {precision:.2f}\")\n",
    "print(f\"Recall: {recall:.2f}\")\n",
    "print(f\"F1 Score: {f1_score:.2f}\")"
   ]
  }
 ],
 "metadata": {
  "accelerator": "GPU",
  "colab": {
   "gpuType": "T4",
   "provenance": []
  },
  "kernelspec": {
   "display_name": "Python 3",
   "name": "python3"
  },
  "language_info": {
   "name": "python"
  }
 },
 "nbformat": 4,
 "nbformat_minor": 0
}
